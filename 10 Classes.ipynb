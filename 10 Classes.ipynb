{
 "cells": [
  {
   "cell_type": "code",
   "execution_count": 62,
   "metadata": {},
   "outputs": [],
   "source": [
    "import random"
   ]
  },
  {
   "cell_type": "code",
   "execution_count": 63,
   "metadata": {},
   "outputs": [],
   "source": [
    "#criando a classe\n",
    "class PeDeLaranja:\n",
    "    def __init__(self):\n",
    "        self.altura = 0\n",
    "        self.idade = 0\n",
    "        self.frutos = 0\n",
    "        self.viva = True\n",
    "\n",
    "    def adicionar_um_ano(self):\n",
    "        self.idade +=1\n",
    "        self.adicionar_um_metro()\n",
    "        self.adicionar_fruto()\n",
    "\n",
    "    def adicionar_um_metro(self):\n",
    "        if self.altura <10:\n",
    "            self.altura += 1\n",
    "\n",
    "    def adicionar_fruto(self):\n",
    "        if (self.idade >= 5) & (self.idade<=10):\n",
    "            self.frutos += 100\n",
    "        elif (self.idade>=11) & (self.idade<=15):\n",
    "            self.frutos +=200\n",
    "\n",
    "    def colher_frutos(self, qtde):\n",
    "        if qtde <= self.frutos:\n",
    "            self.frutos -= qtde\n",
    "        else:\n",
    "            self.frutos = 0\n",
    "            \n",
    "    def continuar_viva(self):\n",
    "        if self.idade >= 100:\n",
    "            self.viva = False\n",
    "        elif (self.idade >= 50) & (random.randint(0,30)==1):\n",
    "            self.viva = False"
   ]
  },
  {
   "cell_type": "code",
   "execution_count": 64,
   "metadata": {},
   "outputs": [],
   "source": [
    "#instanciando a classe\n",
    "LaranjaLima = PeDeLaranja()"
   ]
  },
  {
   "cell_type": "code",
   "execution_count": 65,
   "metadata": {},
   "outputs": [
    {
     "data": {
      "text/plain": [
       "(0, 0, 0, True)"
      ]
     },
     "execution_count": 65,
     "metadata": {},
     "output_type": "execute_result"
    }
   ],
   "source": [
    "#verificando os atributos\n",
    "LaranjaLima.altura, LaranjaLima.idade, LaranjaLima.frutos, LaranjaLima.viva"
   ]
  },
  {
   "cell_type": "code",
   "execution_count": 66,
   "metadata": {},
   "outputs": [
    {
     "data": {
      "text/plain": [
       "(1, 1, 0, True)"
      ]
     },
     "execution_count": 66,
     "metadata": {},
     "output_type": "execute_result"
    }
   ],
   "source": [
    "LaranjaLima.adicionar_um_ano()\n",
    "#verificando os atributos\n",
    "LaranjaLima.altura, LaranjaLima.idade, LaranjaLima.frutos, LaranjaLima.viva"
   ]
  },
  {
   "cell_type": "code",
   "execution_count": 67,
   "metadata": {},
   "outputs": [
    {
     "data": {
      "text/plain": [
       "(1, 1, 0, True)"
      ]
     },
     "execution_count": 67,
     "metadata": {},
     "output_type": "execute_result"
    }
   ],
   "source": [
    "LaranjaLima.colher_frutos(100)\n",
    "#verificando os atributos\n",
    "LaranjaLima.altura, LaranjaLima.idade, LaranjaLima.frutos, LaranjaLima.viva"
   ]
  },
  {
   "cell_type": "code",
   "execution_count": 69,
   "metadata": {},
   "outputs": [
    {
     "name": "stdout",
     "output_type": "stream",
     "text": [
      "1 1 0 True\n",
      "2 2 0 True\n",
      "3 3 0 True\n",
      "4 4 0 True\n",
      "5 5 100 True\n",
      "6 6 200 True\n",
      "7 7 300 True\n",
      "8 8 400 True\n",
      "9 9 500 True\n",
      "10 10 600 True\n",
      "10 11 800 True\n",
      "10 12 1000 True\n",
      "10 13 1200 True\n",
      "10 14 1400 True\n",
      "10 15 1600 True\n",
      "10 16 1600 True\n",
      "10 17 1600 True\n",
      "10 18 1600 True\n",
      "10 19 1600 True\n",
      "10 20 1600 True\n",
      "10 21 1600 True\n",
      "10 22 1600 True\n",
      "10 23 1600 True\n",
      "10 24 1600 True\n",
      "10 25 1600 True\n",
      "10 26 1600 True\n",
      "10 27 1600 True\n",
      "10 28 1600 True\n",
      "10 29 1600 True\n",
      "10 30 1600 True\n",
      "10 31 1600 True\n",
      "10 32 1600 True\n",
      "10 33 1600 True\n",
      "10 34 1600 True\n",
      "10 35 1600 True\n",
      "10 36 1600 True\n",
      "10 37 1600 True\n",
      "10 38 1600 True\n",
      "10 39 1600 True\n",
      "10 40 1600 True\n",
      "10 41 1600 True\n",
      "10 42 1600 True\n",
      "10 43 1600 True\n",
      "10 44 1600 True\n",
      "10 45 1600 True\n",
      "10 46 1600 True\n",
      "10 47 1600 True\n",
      "10 48 1600 True\n",
      "10 49 1600 True\n",
      "10 50 1600 True\n",
      "10 51 1600 True\n",
      "10 52 1600 True\n",
      "10 53 1600 True\n",
      "10 54 1600 True\n",
      "10 55 1600 True\n",
      "10 56 1600 True\n",
      "10 57 1600 True\n",
      "10 58 1600 True\n",
      "10 59 1600 True\n",
      "10 60 1600 True\n",
      "10 61 1600 True\n",
      "10 62 1600 True\n",
      "10 63 1600 True\n",
      "10 64 1600 True\n",
      "10 65 1600 True\n",
      "10 66 1600 True\n",
      "10 67 1600 True\n",
      "10 68 1600 True\n",
      "10 69 1600 True\n",
      "10 70 1600 True\n",
      "10 71 1600 True\n",
      "10 72 1600 True\n",
      "10 73 1600 True\n",
      "10 74 1600 True\n",
      "10 75 1600 True\n",
      "10 76 1600 True\n",
      "10 77 1600 True\n",
      "10 78 1600 True\n",
      "10 79 1600 True\n",
      "10 80 1600 True\n",
      "10 81 1600 True\n",
      "10 82 1600 True\n",
      "10 83 1600 True\n",
      "10 84 1600 True\n",
      "10 85 1600 True\n",
      "10 86 1600 True\n",
      "10 87 1600 True\n",
      "10 88 1600 True\n",
      "10 89 1600 True\n",
      "10 90 1600 True\n",
      "10 91 1600 True\n",
      "10 92 1600 True\n",
      "10 93 1600 True\n",
      "10 94 1600 True\n",
      "10 95 1600 True\n",
      "10 96 1600 True\n",
      "10 97 1600 True\n",
      "10 98 1600 True\n",
      "10 99 1600 True\n",
      "10 100 1600 True\n"
     ]
    }
   ],
   "source": [
    "#instanciando a classe\n",
    "LaranjaLima = PeDeLaranja()\n",
    "\n",
    "i = 1\n",
    "\n",
    "while i <= 100:\n",
    "    LaranjaLima.adicionar_um_ano()\n",
    "    print(LaranjaLima.altura, LaranjaLima.idade, LaranjaLima.frutos, LaranjaLima.viva)\n",
    "    i+=1\n",
    "    "
   ]
  }
 ],
 "metadata": {
  "kernelspec": {
   "display_name": "venv1",
   "language": "python",
   "name": "python3"
  },
  "language_info": {
   "codemirror_mode": {
    "name": "ipython",
    "version": 3
   },
   "file_extension": ".py",
   "mimetype": "text/x-python",
   "name": "python",
   "nbconvert_exporter": "python",
   "pygments_lexer": "ipython3",
   "version": "3.12.3"
  }
 },
 "nbformat": 4,
 "nbformat_minor": 2
}
