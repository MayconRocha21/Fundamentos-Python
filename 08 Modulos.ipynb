{
 "cells": [
  {
   "cell_type": "markdown",
   "metadata": {},
   "source": [
    "# 08. Módulos"
   ]
  },
  {
   "cell_type": "code",
   "execution_count": 1,
   "metadata": {},
   "outputs": [],
   "source": [
    "import meuPrimeiroModulo"
   ]
  },
  {
   "cell_type": "code",
   "execution_count": 2,
   "metadata": {},
   "outputs": [
    {
     "data": {
      "text/plain": [
       "['Troca de Óleo', 'Alinhamento']"
      ]
     },
     "execution_count": 2,
     "metadata": {},
     "output_type": "execute_result"
    }
   ],
   "source": [
    "pedido_servico = [\"Troca de Óleo\", \"Alinhamento\"]\n",
    "pedido_servico"
   ]
  },
  {
   "cell_type": "code",
   "execution_count": 3,
   "metadata": {},
   "outputs": [
    {
     "name": "stdout",
     "output_type": "stream",
     "text": [
      "CAR AUTO CENTER\n",
      "------------------------------------\n",
      "Itens de manutenção:\n",
      "Troca de Óleo = R$50 +- 30 min.\n",
      "Alinhamento = R$60 +- 40 min.\n",
      "------------------------------------\n",
      "Valor total = R$ 110\n",
      "Tempo total = 70 minutos\n"
     ]
    }
   ],
   "source": [
    "# meuPrimeiroModulo.fazer_pedido_manutencao(pedido_servico)\n",
    "meuPrimeiroModulo.fazer_pedido_manutencao([\"Troca de Óleo\", \"Alinhamento\"])"
   ]
  }
 ],
 "metadata": {
  "kernelspec": {
   "display_name": "venv1",
   "language": "python",
   "name": "python3"
  },
  "language_info": {
   "codemirror_mode": {
    "name": "ipython",
    "version": 3
   },
   "file_extension": ".py",
   "mimetype": "text/x-python",
   "name": "python",
   "nbconvert_exporter": "python",
   "pygments_lexer": "ipython3",
   "version": "3.12.3"
  }
 },
 "nbformat": 4,
 "nbformat_minor": 2
}
