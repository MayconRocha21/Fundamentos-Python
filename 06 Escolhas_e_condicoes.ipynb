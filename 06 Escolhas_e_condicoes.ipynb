{
 "cells": [
  {
   "cell_type": "markdown",
   "metadata": {},
   "source": [
    "# 06. Escolhas e condições"
   ]
  },
  {
   "cell_type": "markdown",
   "metadata": {},
   "source": [
    "### 06.02. Condições"
   ]
  },
  {
   "cell_type": "code",
   "execution_count": 1,
   "metadata": {},
   "outputs": [
    {
     "data": {
      "text/plain": [
       "True"
      ]
     },
     "execution_count": 1,
     "metadata": {},
     "output_type": "execute_result"
    }
   ],
   "source": [
    "#igual\n",
    "\n",
    "1==1"
   ]
  },
  {
   "cell_type": "code",
   "execution_count": 2,
   "metadata": {},
   "outputs": [
    {
     "data": {
      "text/plain": [
       "False"
      ]
     },
     "execution_count": 2,
     "metadata": {},
     "output_type": "execute_result"
    }
   ],
   "source": [
    "#diferente\n",
    "1 != 12\n",
    "1 != 1"
   ]
  },
  {
   "cell_type": "code",
   "execution_count": 3,
   "metadata": {},
   "outputs": [
    {
     "data": {
      "text/plain": [
       "True"
      ]
     },
     "execution_count": 3,
     "metadata": {},
     "output_type": "execute_result"
    }
   ],
   "source": [
    "#maior\n",
    "\n",
    "5 > 3"
   ]
  },
  {
   "cell_type": "code",
   "execution_count": 4,
   "metadata": {},
   "outputs": [
    {
     "data": {
      "text/plain": [
       "True"
      ]
     },
     "execution_count": 4,
     "metadata": {},
     "output_type": "execute_result"
    }
   ],
   "source": [
    "#maior ou igual\n",
    "\n",
    "5 >= 3"
   ]
  },
  {
   "cell_type": "code",
   "execution_count": 5,
   "metadata": {},
   "outputs": [
    {
     "data": {
      "text/plain": [
       "False"
      ]
     },
     "execution_count": 5,
     "metadata": {},
     "output_type": "execute_result"
    }
   ],
   "source": [
    "#menor\n",
    "\n",
    "11 < 7"
   ]
  },
  {
   "cell_type": "code",
   "execution_count": 6,
   "metadata": {},
   "outputs": [
    {
     "data": {
      "text/plain": [
       "True"
      ]
     },
     "execution_count": 6,
     "metadata": {},
     "output_type": "execute_result"
    }
   ],
   "source": [
    "# menor ou igual\n",
    "\n",
    "4 <= 7\n"
   ]
  },
  {
   "cell_type": "code",
   "execution_count": 7,
   "metadata": {},
   "outputs": [
    {
     "data": {
      "text/plain": [
       "True"
      ]
     },
     "execution_count": 7,
     "metadata": {},
     "output_type": "execute_result"
    }
   ],
   "source": [
    "# está dentro\n",
    "\n",
    "lista = [4,5,6,7,8,9]\n",
    "\n",
    "6 in lista"
   ]
  },
  {
   "cell_type": "markdown",
   "metadata": {},
   "source": [
    "### 06.03. IF Else"
   ]
  },
  {
   "cell_type": "code",
   "execution_count": 8,
   "metadata": {},
   "outputs": [
    {
     "name": "stdout",
     "output_type": "stream",
     "text": [
      "Voce nao foi aprovado. Volte estudar!\n"
     ]
    }
   ],
   "source": [
    "#if\n",
    "\n",
    "nota = 7.5\n",
    "\n",
    "if nota >= 9:\n",
    "    print(\"Voce foi aprovado. Parabens!\")\n",
    "else:\n",
    "    print(\"Voce nao foi aprovado. Volte estudar!\")"
   ]
  },
  {
   "cell_type": "code",
   "execution_count": 9,
   "metadata": {},
   "outputs": [
    {
     "name": "stdout",
     "output_type": "stream",
     "text": [
      "Voce foi aprovado. Parabens!\n"
     ]
    }
   ],
   "source": [
    "#if sem else\n",
    "\n",
    "nota = 9\n",
    "\n",
    "if nota >= 9:\n",
    "    print(\"Voce foi aprovado. Parabens!\")"
   ]
  },
  {
   "cell_type": "code",
   "execution_count": 10,
   "metadata": {},
   "outputs": [
    {
     "name": "stdout",
     "output_type": "stream",
     "text": [
      "Você obteve uma nota A.\n"
     ]
    }
   ],
   "source": [
    "# elif\n",
    "\n",
    "nota = 9\n",
    "\n",
    "if nota >= 9:\n",
    "    print(\"Você obteve uma nota A.\")\n",
    "elif nota >= 8:\n",
    "    print(\"Você obteve uma nota B.\")\n",
    "elif nota >= 6:\n",
    "    print(\"Você obteve uma nota C.\")\n",
    "else:\n",
    "    print(\"Reprovado! Volte estudar!\")"
   ]
  },
  {
   "cell_type": "code",
   "execution_count": 11,
   "metadata": {},
   "outputs": [
    {
     "name": "stdout",
     "output_type": "stream",
     "text": [
      "Parabens! O numero 19 foi sorteado!\n"
     ]
    }
   ],
   "source": [
    "# in\n",
    "\n",
    "# em um rifa com 10 numeros entre 5 e 20, escolha um numero para ser sorteado\n",
    "numero = 19\n",
    "\n",
    "rifa = [19, 5, 17, 11, 12, 10, 15, 20, 8, 12]\n",
    "\n",
    "if numero in rifa:\n",
    "    print(f\"Parabens! O numero {numero} foi sorteado!\")\n",
    "else:\n",
    "    print(f\"Tente novamente! O numero {numero} nao foi sorteado!\")"
   ]
  },
  {
   "cell_type": "code",
   "execution_count": 12,
   "metadata": {},
   "outputs": [
    {
     "name": "stdout",
     "output_type": "stream",
     "text": [
      "Parabens! O numero 5 foi sorteado!\n"
     ]
    }
   ],
   "source": [
    "# or = |\n",
    "\n",
    "# em um rifa com 10 numeros entre 5 e 20, escolha um numero para ser sorteado\n",
    "#adicionando outra condição\n",
    "numero = 5\n",
    "\n",
    "rifa = [19, 5, 17, 11, 12, 10, 15, 20, 8, 12]\n",
    "\n",
    "if numero < 5 or numero > 20:\n",
    "    print(f\"Atencao! O numero {numero} nao esta no intervalo solicitado.\")\n",
    "elif numero in rifa:\n",
    "    print(f\"Parabens! O numero {numero} foi sorteado!\")\n",
    "else:\n",
    "    print(f\"Tente novamente! O numero {numero} nao foi sorteado!\")\n",
    "\n"
   ]
  },
  {
   "cell_type": "code",
   "execution_count": 21,
   "metadata": {},
   "outputs": [
    {
     "name": "stdout",
     "output_type": "stream",
     "text": [
      "Tente novamente! O numero 21 nao foi sorteado!\n"
     ]
    }
   ],
   "source": [
    "# and = &\n",
    "\n",
    "#adicionando outra condição\n",
    "numero = 21\n",
    "\n",
    "rifa = [19, 5, 17, 11, 12, 10, 15, 20, 8, 12]\n",
    "\n",
    "if numero <= 5 & numero >= 20:\n",
    "    print(f\"Atencao! O numero {numero} nao esta no intervalo solicitado.\")\n",
    "elif numero in rifa:\n",
    "    print(f\"Parabens! O numero {numero} foi sorteado!\")\n",
    "else:\n",
    "    print(f\"Tente novamente! O numero {numero} nao foi sorteado!\")\n",
    "\n"
   ]
  },
  {
   "cell_type": "markdown",
   "metadata": {},
   "source": [
    "### 06.04. Inline IF"
   ]
  },
  {
   "cell_type": "code",
   "execution_count": 22,
   "metadata": {},
   "outputs": [
    {
     "data": {
      "text/plain": [
       "'Maior de idade'"
      ]
     },
     "execution_count": 22,
     "metadata": {},
     "output_type": "execute_result"
    }
   ],
   "source": [
    "#Inline IF\n",
    "\n",
    "idade = 18\n",
    "\n",
    "mensagem = \"Maior de idade\" if idade >= 18 else \"Menor de idade\" \n",
    "\n",
    "if idade >= 18:\n",
    "    mensagem = \"Maior de idade\" \n",
    "else:\n",
    "    mensagem = \"Menor de idade\"\n",
    "\n",
    "mensagem"
   ]
  },
  {
   "cell_type": "markdown",
   "metadata": {},
   "source": [
    "### 06.05. For Loop"
   ]
  },
  {
   "cell_type": "code",
   "execution_count": 15,
   "metadata": {},
   "outputs": [
    {
     "name": "stdout",
     "output_type": "stream",
     "text": [
      "Banana\n",
      "Maça\n",
      "Laranja\n"
     ]
    }
   ],
   "source": [
    "#Iterar por uma lista\n",
    "\n",
    "cestaDeFrutas  = [\n",
    "    \"Banana\",\n",
    "    \"Maça\",\n",
    "    \"Laranja\"\n",
    "]\n",
    "\n",
    "for fruta in cestaDeFrutas:\n",
    "    print(fruta)"
   ]
  },
  {
   "cell_type": "code",
   "execution_count": 23,
   "metadata": {},
   "outputs": [
    {
     "name": "stdout",
     "output_type": "stream",
     "text": [
      "1 1\n",
      "2 3\n",
      "3 6\n",
      "4 10\n",
      "5 15\n",
      "6 21\n"
     ]
    },
    {
     "data": {
      "text/plain": [
       "21"
      ]
     },
     "execution_count": 23,
     "metadata": {},
     "output_type": "execute_result"
    }
   ],
   "source": [
    "#Iterar por um intervalo de números\n",
    "numeros = [1,2,3,4,5,6]\n",
    "\n",
    "acumulado = 0\n",
    "\n",
    "# for numero in range(1, 7):\n",
    "for numero in numeros:\n",
    "    acumulado += numero\n",
    "    print(numero, acumulado)\n",
    "    \n",
    "acumulado\n",
    "\n"
   ]
  },
  {
   "cell_type": "code",
   "execution_count": 24,
   "metadata": {},
   "outputs": [
    {
     "name": "stdout",
     "output_type": "stream",
     "text": [
      "P\n",
      "y\n",
      "t\n",
      "h\n",
      "o\n",
      "n\n",
      " \n",
      "é\n",
      " \n",
      "s\n",
      "h\n",
      "o\n",
      "w\n"
     ]
    }
   ],
   "source": [
    "# Iterar por uma string\n",
    "\n",
    "palavra = \"Python é show\"\n",
    "\n",
    "for letra in palavra:\n",
    "    print(letra)\n"
   ]
  },
  {
   "cell_type": "markdown",
   "metadata": {},
   "source": [
    "### 06.06. While Loop"
   ]
  },
  {
   "cell_type": "code",
   "execution_count": 27,
   "metadata": {},
   "outputs": [
    {
     "name": "stdout",
     "output_type": "stream",
     "text": [
      "5\n",
      "4\n",
      "3\n",
      "2\n",
      "1\n",
      "0\n"
     ]
    }
   ],
   "source": [
    "# Contagem regressiva\n",
    "contador = 5\n",
    "\n",
    "while contador >= 0:\n",
    "    print(contador)\n",
    "    contador -= 1\n"
   ]
  },
  {
   "cell_type": "code",
   "execution_count": 31,
   "metadata": {},
   "outputs": [
    {
     "name": "stdout",
     "output_type": "stream",
     "text": [
      "0\n",
      "8\n",
      "9\n",
      "O total de 14 é maior que o limite de 10\n"
     ]
    }
   ],
   "source": [
    "#Soma até certo valor\n",
    "\n",
    "soma = 0\n",
    "limite = 10\n",
    "\n",
    "while soma < limite:\n",
    "    print(soma)\n",
    "    numero = int(input(\"Digite um numero\"))\n",
    "    soma += numero\n",
    "if soma == limite:\n",
    "    print(f\"O total de {soma} é igual o limite de {limite}\")\n",
    "elif soma > limite:\n",
    "    print(f\"O total de {soma} é maior que o limite de {limite}\")"
   ]
  },
  {
   "cell_type": "code",
   "execution_count": 2,
   "metadata": {},
   "outputs": [
    {
     "name": "stdout",
     "output_type": "stream",
     "text": [
      "Parabéns! Você acertou em 1 tentativas.\n"
     ]
    }
   ],
   "source": [
    " # Adivinhe o número\n",
    "\n",
    "numero_secreto = 19\n",
    "tentativa = 0\n",
    "\n",
    "while True:\n",
    "    palpite = int(input(\"Adivinhe o numero: \"))\n",
    "    tentativa += 1\n",
    "\n",
    "    if palpite == numero_secreto:\n",
    "        print(f\"Parabéns! Você acertou em {tentativa} tentativas.\")\n",
    "        break\n",
    "    elif palpite < numero_secreto:\n",
    "        print(\"Tente um número maior.\")\n",
    "    else:\n",
    "        print(\"Tente um número menor.\")\n",
    "\n"
   ]
  },
  {
   "cell_type": "markdown",
   "metadata": {},
   "source": [
    "### 06.07. Break"
   ]
  },
  {
   "cell_type": "code",
   "execution_count": 8,
   "metadata": {},
   "outputs": [
    {
     "name": "stdout",
     "output_type": "stream",
     "text": [
      "maçã\n",
      "banana\n",
      "laranja\n",
      "Encontramos a laranja. Vamos parar o loop\n"
     ]
    }
   ],
   "source": [
    "#Break\n",
    "cestaDeFrutas = [\"maçã\", \"banana\", \"laranja\", \"uva\", \"morango\", \"pera\", \"melancia\"]\n",
    "\n",
    "for fruta in cestaDeFrutas:\n",
    "    print(fruta)\n",
    "\n",
    "    if fruta == \"laranja\":\n",
    "        print(\"Encontramos a laranja. Vamos parar o loop\")\n",
    "        break"
   ]
  },
  {
   "cell_type": "markdown",
   "metadata": {},
   "source": [
    "### 06.08. Continue"
   ]
  },
  {
   "cell_type": "code",
   "execution_count": 9,
   "metadata": {},
   "outputs": [
    {
     "name": "stdout",
     "output_type": "stream",
     "text": [
      "maçã\n",
      "banana\n",
      "Encontramos a laranja! Vamos pular para a próxima iteração.\n",
      "uva\n",
      "morango\n"
     ]
    }
   ],
   "source": [
    "# Continue\n",
    "\n",
    "cestaDeFrutas = [\"maçã\", \"banana\", \"laranja\", \"uva\", \"morango\"]\n",
    "\n",
    "for fruta in cestaDeFrutas:\n",
    "\n",
    "    if fruta == \"laranja\":\n",
    "        print(\"Encontramos a laranja! Vamos pular para a próxima iteração.\")\n",
    "        \n",
    "        continue\n",
    "\n",
    "    print(fruta)"
   ]
  },
  {
   "cell_type": "markdown",
   "metadata": {},
   "source": [
    "### 06.09.  Try Except"
   ]
  },
  {
   "cell_type": "code",
   "execution_count": 15,
   "metadata": {},
   "outputs": [
    {
     "name": "stdout",
     "output_type": "stream",
     "text": [
      "Acumulado: 0\n",
      "Numero: 5\n",
      "Acumulado: 5\n",
      "Numero: 8\n"
     ]
    }
   ],
   "source": [
    "#try except\n",
    "\n",
    "limite = 10\n",
    "acumulado = 0\n",
    "\n",
    "while acumulado < limite:\n",
    "\n",
    "    try:\n",
    "\n",
    "        print(f\"Acumulado: {acumulado}\")\n",
    "        numero = int(input(\"Informe um numero\"))\n",
    "        print(f\"Numero: {numero}\")\n",
    "        acumulado += numero\n",
    "        \n",
    "    except:\n",
    "        print(\"Valor informado nao valido\")"
   ]
  }
 ],
 "metadata": {
  "kernelspec": {
   "display_name": "Python 3",
   "language": "python",
   "name": "python3"
  },
  "language_info": {
   "codemirror_mode": {
    "name": "ipython",
    "version": 3
   },
   "file_extension": ".py",
   "mimetype": "text/x-python",
   "name": "python",
   "nbconvert_exporter": "python",
   "pygments_lexer": "ipython3",
   "version": "3.12.3"
  }
 },
 "nbformat": 4,
 "nbformat_minor": 2
}
