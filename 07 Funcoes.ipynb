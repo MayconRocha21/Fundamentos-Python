{
 "cells": [
  {
   "cell_type": "markdown",
   "metadata": {},
   "source": [
    "# 07. Funções"
   ]
  },
  {
   "cell_type": "markdown",
   "metadata": {},
   "source": [
    "#### 07.02. Tipos de funções"
   ]
  },
  {
   "cell_type": "code",
   "execution_count": 4,
   "metadata": {},
   "outputs": [
    {
     "name": "stdout",
     "output_type": "stream",
     "text": [
      "12\n",
      "60\n"
     ]
    }
   ],
   "source": [
    "#funções integradas\n",
    "\n",
    "texto = \"Hello world!\"\n",
    "comprimento = len(texto)\n",
    "print(comprimento)\n",
    "\n",
    "numeros = [1,2,3,4,5,6,7,8,9,10,5]\n",
    "soma = sum(numeros)\n",
    "\n",
    "print(soma)"
   ]
  },
  {
   "cell_type": "code",
   "execution_count": 5,
   "metadata": {},
   "outputs": [
    {
     "data": {
      "text/plain": [
       "27.0"
      ]
     },
     "execution_count": 5,
     "metadata": {},
     "output_type": "execute_result"
    }
   ],
   "source": [
    "#funções de terceiros... quando importamos\n",
    "import math\n",
    "\n",
    "numero = 16\n",
    "\n",
    "raiz_quadrada = math.sqrt(numero)\n",
    "\n",
    "raiz_quadrada\n",
    "\n",
    "numero2 = 4\n",
    "potencia = math.pow(3, 3)\n",
    "potencia"
   ]
  },
  {
   "cell_type": "code",
   "execution_count": 1,
   "metadata": {},
   "outputs": [],
   "source": [
    "#funções proprias\n",
    "def calcular_quadrado(numero):\n",
    "    quadrado = numero ** 2\n",
    "    return quadrado\n"
   ]
  },
  {
   "cell_type": "code",
   "execution_count": 2,
   "metadata": {},
   "outputs": [],
   "source": [
    "def nao_retorna_nada():\n",
    "    print(\"nao retorna nada\")\n",
    "\n",
    "# nao_retorna_nada()\n"
   ]
  },
  {
   "cell_type": "code",
   "execution_count": 3,
   "metadata": {},
   "outputs": [
    {
     "data": {
      "text/plain": [
       "25"
      ]
     },
     "execution_count": 3,
     "metadata": {},
     "output_type": "execute_result"
    }
   ],
   "source": [
    "calcular_quadrado(5)"
   ]
  },
  {
   "cell_type": "markdown",
   "metadata": {},
   "source": [
    "#### 07.04. Escopo de variáveis em funções"
   ]
  },
  {
   "cell_type": "code",
   "execution_count": 6,
   "metadata": {},
   "outputs": [
    {
     "name": "stdout",
     "output_type": "stream",
     "text": [
      "Dentro da funcao\n",
      "variavel global\n",
      "variavel local\n",
      "\n",
      "Fora da funcao\n",
      "variavel global\n",
      "Erro: name 'mensagem2' is not defined\n"
     ]
    }
   ],
   "source": [
    "mensagem1 = \"variavel global\"\n",
    "\n",
    "#definindo a funcao\n",
    "def minhaFuncao():\n",
    "    print(\"Dentro da funcao\")\n",
    "    print(mensagem1)\n",
    "\n",
    "    mensagem2 = \"variavel local\"\n",
    "    print(mensagem2)\n",
    "\n",
    "\n",
    "#chamando a funcao\n",
    "minhaFuncao()\n",
    "\n",
    "print(\"\\nFora da funcao\")\n",
    "print(mensagem1)\n",
    "\n",
    "try:\n",
    "    print(mensagem2)\n",
    "except NameError as e:\n",
    "    print(f\"Erro: {e}\")\n"
   ]
  },
  {
   "cell_type": "markdown",
   "metadata": {},
   "source": [
    "#### 07.05. Parâmetros em funções"
   ]
  },
  {
   "cell_type": "code",
   "execution_count": 7,
   "metadata": {},
   "outputs": [],
   "source": [
    "# Função com parâmetros \n",
    "\n",
    "def saudacao(nome, saudacao_padrao=\"Olá,\"):\n",
    "    print(saudacao_padrao, nome)"
   ]
  },
  {
   "cell_type": "code",
   "execution_count": 11,
   "metadata": {},
   "outputs": [
    {
     "name": "stdout",
     "output_type": "stream",
     "text": [
      "Seja bem vindo, Maycon Rocha!\n",
      "Olá, Maycon Rocha.\n"
     ]
    }
   ],
   "source": [
    "saudacao(\"Maycon Rocha!\", \"Seja bem vindo,\")\n",
    "saudacao(\"Maycon Rocha.\")"
   ]
  },
  {
   "cell_type": "code",
   "execution_count": 15,
   "metadata": {},
   "outputs": [],
   "source": [
    "precos_manutencao = {\n",
    "    \"Troca de Óleo\": 50,\n",
    "    \"Filtro de Ar\": 20,\n",
    "    \"Pastilhas de Freio\": 80,\n",
    "    \"Bateria\": 100,\n",
    "    \"Alinhamento\": 60\n",
    "}\n",
    "\n",
    "def calcular(dicionario):\n",
    "    for item, preco in dicionario.items():\n",
    "        # print(f\"Item: {item}, Valor: {valor}\")\n",
    "        # print(linha_dodicionario)\n",
    "        print(f\"Item: {item}, Valor: {preco}\")"
   ]
  },
  {
   "cell_type": "code",
   "execution_count": 16,
   "metadata": {},
   "outputs": [
    {
     "name": "stdout",
     "output_type": "stream",
     "text": [
      "Item: Troca de Óleo, Valor: 50\n",
      "Item: Filtro de Ar, Valor: 20\n",
      "Item: Pastilhas de Freio, Valor: 80\n",
      "Item: Bateria, Valor: 100\n",
      "Item: Alinhamento, Valor: 60\n"
     ]
    }
   ],
   "source": [
    "calcular(precos_manutencao)"
   ]
  },
  {
   "cell_type": "markdown",
   "metadata": {},
   "source": [
    "#### 07.06. Lista de parâmetros"
   ]
  },
  {
   "cell_type": "code",
   "execution_count": 17,
   "metadata": {},
   "outputs": [],
   "source": [
    "def calcular_cesta(*valor):\n",
    "    print(valor)\n"
   ]
  },
  {
   "cell_type": "code",
   "execution_count": 19,
   "metadata": {},
   "outputs": [
    {
     "name": "stdout",
     "output_type": "stream",
     "text": [
      "(10, 3, 60, 0, 6, 3, 4, 9, 6)\n",
      "([1, 2, 3, 4, 5, 6, 7, 8, 9, 10],)\n"
     ]
    }
   ],
   "source": [
    "calcular_cesta(10, 3, 60, 0, 6, 3, 4, 9,6)\n",
    "\n",
    "lista = [1,2,3,4,5,6,7,8,9,10]\n",
    "\n",
    "calcular_cesta(lista)"
   ]
  },
  {
   "cell_type": "markdown",
   "metadata": {},
   "source": [
    "#### 07.07. criando sua funcao"
   ]
  },
  {
   "cell_type": "code",
   "execution_count": 20,
   "metadata": {},
   "outputs": [
    {
     "name": "stdout",
     "output_type": "stream",
     "text": [
      "70\n"
     ]
    }
   ],
   "source": [
    "#Criando um dicioário com preços de manutenção\n",
    "precos_manutencao = {\n",
    "    \"Troca de Óleo\": 50,\n",
    "    \"Filtro de Ar\": 20,\n",
    "    \"Pastilhas de Freio\": 80,\n",
    "    \"Bateria\": 100,\n",
    "    \"Alinhamento\": 60\n",
    "}\n",
    "\n",
    "# Função para calcular o custo total da manutenção\n",
    "def calcular_preco_pedido_manutencao(pedido_servico):\n",
    "    \n",
    "    preco_total = 0\n",
    "\n",
    "    for item, preco in precos_manutencao.items():\n",
    "        if item in pedido_servico:\n",
    "            preco_total += preco\n",
    "    \n",
    "    return preco_total\n",
    "\n",
    "pedido_servico = [\"Troca de Óleo\", \"Filtro de Ar\"]\n",
    "total = calcular_preco_pedido_manutencao(pedido_servico)\n",
    "print(total)"
   ]
  },
  {
   "cell_type": "code",
   "execution_count": 21,
   "metadata": {},
   "outputs": [
    {
     "data": {
      "text/plain": [
       "70"
      ]
     },
     "execution_count": 21,
     "metadata": {},
     "output_type": "execute_result"
    }
   ],
   "source": [
    "#Criando um dicioário com tempos de manutenção\n",
    "tempo_manutencao = {\n",
    "    \"Troca de Óleo\": 30,\n",
    "    \"Filtro de Ar\": 15,\n",
    "    \"Pastilhas de Freio\": 45,\n",
    "    \"Bateria\": 60,\n",
    "    \"Alinhamento\": 40\n",
    "}\n",
    "\n",
    "def calcular_tempo_pedido_manutencao(pedido_servico):\n",
    "    tempo_total = 0\n",
    "    for item, tempo in tempo_manutencao.items():\n",
    "        if item in pedido_servico:\n",
    "            tempo_total += tempo\n",
    "    return tempo_total\n",
    "\n",
    "# Função para calcular o tempo total de manutenção\n",
    "pedido_servico = [\"Troca de Óleo\", \"Alinhamento\"]\n",
    "calcular_tempo_pedido_manutencao(pedido_servico)\n"
   ]
  },
  {
   "cell_type": "code",
   "execution_count": 23,
   "metadata": {},
   "outputs": [],
   "source": [
    "# Função principal para fazer o pedido de manutenção\n",
    "\n",
    "def fazer_pedido_manutencao(pedido_servico):\n",
    "\n",
    "    custo_total = calcular_preco_pedido_manutencao(pedido_servico)\n",
    "    tempo_total = calcular_tempo_pedido_manutencao(pedido_servico)\n",
    "\n",
    "    print(\"CAR AUTO CENTER\")\n",
    "    print(\"------------------------------------\")\n",
    "    print(\"Itens de manutenção:\")\n",
    "    for item in pedido_servico:\n",
    "        print(f\"{item} = R${precos_manutencao[item]} +- {tempo_manutencao[item]} min.\")\n",
    "\n",
    "    print(\"------------------------------------\")\n",
    "    print(f\"Valor total = R$ {custo_total}\")\n",
    "    print(f\"Tempo total = {tempo_total} minutos\")"
   ]
  },
  {
   "cell_type": "code",
   "execution_count": 24,
   "metadata": {},
   "outputs": [
    {
     "name": "stdout",
     "output_type": "stream",
     "text": [
      "CAR AUTO CENTER\n",
      "------------------------------------\n",
      "Itens de manutenção:\n",
      "Troca de Óleo = R$50 +- 30 min.\n",
      "Alinhamento = R$60 +- 40 min.\n",
      "------------------------------------\n",
      "Valor total = R$ 110\n",
      "Tempo total = 70 minutos\n"
     ]
    }
   ],
   "source": [
    "pedido_servico = [\"Troca de Óleo\", \"Alinhamento\"]\n",
    "\n",
    "fazer_pedido_manutencao(pedido_servico)"
   ]
  },
  {
   "cell_type": "code",
   "execution_count": 25,
   "metadata": {},
   "outputs": [],
   "source": [
    "tempo_manutencao = {\n",
    "    \"Troca de Óleo\": 30,\n",
    "    \"Filtro de Ar\": 15,\n",
    "    \"Pastilhas de Freio\": 45,\n",
    "    \"Bateria\": 60,\n",
    "    \"Alinhamento\": 40\n",
    "}"
   ]
  },
  {
   "cell_type": "code",
   "execution_count": 26,
   "metadata": {},
   "outputs": [
    {
     "data": {
      "text/plain": [
       "45"
      ]
     },
     "execution_count": 26,
     "metadata": {},
     "output_type": "execute_result"
    }
   ],
   "source": [
    "tempo_manutencao[\"Pastilhas de Freio\"]"
   ]
  }
 ],
 "metadata": {
  "kernelspec": {
   "display_name": "Python 3",
   "language": "python",
   "name": "python3"
  },
  "language_info": {
   "codemirror_mode": {
    "name": "ipython",
    "version": 3
   },
   "file_extension": ".py",
   "mimetype": "text/x-python",
   "name": "python",
   "nbconvert_exporter": "python",
   "pygments_lexer": "ipython3",
   "version": "3.12.3"
  }
 },
 "nbformat": 4,
 "nbformat_minor": 2
}
